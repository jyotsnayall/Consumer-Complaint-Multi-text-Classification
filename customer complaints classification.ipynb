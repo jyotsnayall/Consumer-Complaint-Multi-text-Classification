{
 "cells": [
  {
   "cell_type": "code",
   "execution_count": 2,
   "metadata": {
    "id": "uMKXdzY2zlIG"
   },
   "outputs": [],
   "source": [
    "import pandas as pd\n",
    "import numpy as np\n",
    "from scipy.stats import randint\n",
    "import seaborn as sns # used for plot interactive graph. \n",
    "import matplotlib.pyplot as plt\n",
    "import seaborn as sns\n",
    "from io import StringIO\n",
    "from sklearn.feature_extraction.text import TfidfVectorizer\n",
    "from sklearn.feature_selection import chi2\n",
    "from IPython.display import display\n",
    "from sklearn.model_selection import train_test_split\n",
    "from sklearn.feature_extraction.text import TfidfTransformer\n",
    "from sklearn.naive_bayes import MultinomialNB\n",
    "from sklearn.linear_model import LogisticRegression\n",
    "from sklearn.ensemble import RandomForestClassifier\n",
    "from sklearn.svm import LinearSVC\n",
    "from sklearn.model_selection import cross_val_score\n",
    "from sklearn.metrics import confusion_matrix\n",
    "from sklearn import metrics"
   ]
  },
  {
   "cell_type": "code",
   "execution_count": 3,
   "metadata": {
    "colab": {
     "base_uri": "https://localhost:8080/"
    },
    "id": "20dVD9rm2mPA",
    "outputId": "f6fd8182-2660-4b4c-c2a8-ba2e54933672"
   },
   "outputs": [
    {
     "name": "stderr",
     "output_type": "stream",
     "text": [
      "d:\\anaconda3\\lib\\site-packages\\IPython\\core\\interactiveshell.py:3369: DtypeWarning: Columns (9,16) have mixed types.Specify dtype option on import or set low_memory=False.\n",
      "  exec(code_obj, self.user_global_ns, self.user_ns)\n"
     ]
    }
   ],
   "source": [
    "# loading data\n",
    "df = pd.read_csv('complaints.csv')"
   ]
  },
  {
   "cell_type": "code",
   "execution_count": 4,
   "metadata": {
    "colab": {
     "base_uri": "https://localhost:8080/"
    },
    "id": "uVNe-ydh3J12",
    "outputId": "7d2b8826-b3ed-47c6-b933-15c6d2763e54"
   },
   "outputs": [
    {
     "data": {
      "text/plain": [
       "(3479257, 18)"
      ]
     },
     "execution_count": 4,
     "metadata": {},
     "output_type": "execute_result"
    }
   ],
   "source": [
    "df.shape"
   ]
  },
  {
   "cell_type": "code",
   "execution_count": 5,
   "metadata": {
    "colab": {
     "base_uri": "https://localhost:8080/",
     "height": 603
    },
    "id": "nNu5Wq2I3KvC",
    "outputId": "011eddc3-3dc6-404e-ea4f-d4c15383e718"
   },
   "outputs": [
    {
     "data": {
      "text/html": [
       "<div>\n",
       "<style scoped>\n",
       "    .dataframe tbody tr th:only-of-type {\n",
       "        vertical-align: middle;\n",
       "    }\n",
       "\n",
       "    .dataframe tbody tr th {\n",
       "        vertical-align: top;\n",
       "    }\n",
       "\n",
       "    .dataframe thead th {\n",
       "        text-align: right;\n",
       "    }\n",
       "</style>\n",
       "<table border=\"1\" class=\"dataframe\">\n",
       "  <thead>\n",
       "    <tr style=\"text-align: right;\">\n",
       "      <th></th>\n",
       "      <th>0</th>\n",
       "      <th>1</th>\n",
       "      <th>2</th>\n",
       "    </tr>\n",
       "  </thead>\n",
       "  <tbody>\n",
       "    <tr>\n",
       "      <th>Date received</th>\n",
       "      <td>2021-10-12</td>\n",
       "      <td>2021-01-12</td>\n",
       "      <td>2023-01-24</td>\n",
       "    </tr>\n",
       "    <tr>\n",
       "      <th>Product</th>\n",
       "      <td>Credit reporting, credit repair services, or o...</td>\n",
       "      <td>Credit reporting, credit repair services, or o...</td>\n",
       "      <td>Credit reporting, credit repair services, or o...</td>\n",
       "    </tr>\n",
       "    <tr>\n",
       "      <th>Sub-product</th>\n",
       "      <td>Credit reporting</td>\n",
       "      <td>Credit reporting</td>\n",
       "      <td>Credit reporting</td>\n",
       "    </tr>\n",
       "    <tr>\n",
       "      <th>Issue</th>\n",
       "      <td>Problem with a credit reporting company's inve...</td>\n",
       "      <td>Incorrect information on your report</td>\n",
       "      <td>Problem with a credit reporting company's inve...</td>\n",
       "    </tr>\n",
       "    <tr>\n",
       "      <th>Sub-issue</th>\n",
       "      <td>Investigation took more than 30 days</td>\n",
       "      <td>Information belongs to someone else</td>\n",
       "      <td>Their investigation did not fix an error on yo...</td>\n",
       "    </tr>\n",
       "    <tr>\n",
       "      <th>Consumer complaint narrative</th>\n",
       "      <td>hi experian has a low and unfair credit number...</td>\n",
       "      <td>I disputed innacurate accounts reported by you...</td>\n",
       "      <td>I have continued to dispute this account with ...</td>\n",
       "    </tr>\n",
       "    <tr>\n",
       "      <th>Company public response</th>\n",
       "      <td>Company has responded to the consumer and the ...</td>\n",
       "      <td>Company has responded to the consumer and the ...</td>\n",
       "      <td>NaN</td>\n",
       "    </tr>\n",
       "    <tr>\n",
       "      <th>Company</th>\n",
       "      <td>Experian Information Solutions Inc.</td>\n",
       "      <td>TRANSUNION INTERMEDIATE HOLDINGS, INC.</td>\n",
       "      <td>EQUIFAX, INC.</td>\n",
       "    </tr>\n",
       "    <tr>\n",
       "      <th>State</th>\n",
       "      <td>IL</td>\n",
       "      <td>IL</td>\n",
       "      <td>FL</td>\n",
       "    </tr>\n",
       "    <tr>\n",
       "      <th>ZIP code</th>\n",
       "      <td>60615.0</td>\n",
       "      <td>60615.0</td>\n",
       "      <td>33823.0</td>\n",
       "    </tr>\n",
       "    <tr>\n",
       "      <th>Tags</th>\n",
       "      <td>Servicemember</td>\n",
       "      <td>NaN</td>\n",
       "      <td>NaN</td>\n",
       "    </tr>\n",
       "    <tr>\n",
       "      <th>Consumer consent provided?</th>\n",
       "      <td>Consent provided</td>\n",
       "      <td>Consent provided</td>\n",
       "      <td>Consent provided</td>\n",
       "    </tr>\n",
       "    <tr>\n",
       "      <th>Submitted via</th>\n",
       "      <td>Web</td>\n",
       "      <td>Web</td>\n",
       "      <td>Web</td>\n",
       "    </tr>\n",
       "    <tr>\n",
       "      <th>Date sent to company</th>\n",
       "      <td>2021-10-12</td>\n",
       "      <td>2021-01-12</td>\n",
       "      <td>2023-01-24</td>\n",
       "    </tr>\n",
       "    <tr>\n",
       "      <th>Company response to consumer</th>\n",
       "      <td>Closed with non-monetary relief</td>\n",
       "      <td>Closed with explanation</td>\n",
       "      <td>Closed with explanation</td>\n",
       "    </tr>\n",
       "    <tr>\n",
       "      <th>Timely response?</th>\n",
       "      <td>Yes</td>\n",
       "      <td>Yes</td>\n",
       "      <td>Yes</td>\n",
       "    </tr>\n",
       "    <tr>\n",
       "      <th>Consumer disputed?</th>\n",
       "      <td>NaN</td>\n",
       "      <td>NaN</td>\n",
       "      <td>NaN</td>\n",
       "    </tr>\n",
       "    <tr>\n",
       "      <th>Complaint ID</th>\n",
       "      <td>4799925</td>\n",
       "      <td>4061709</td>\n",
       "      <td>6482822</td>\n",
       "    </tr>\n",
       "  </tbody>\n",
       "</table>\n",
       "</div>"
      ],
      "text/plain": [
       "                                                                              0  \\\n",
       "Date received                                                        2021-10-12   \n",
       "Product                       Credit reporting, credit repair services, or o...   \n",
       "Sub-product                                                    Credit reporting   \n",
       "Issue                         Problem with a credit reporting company's inve...   \n",
       "Sub-issue                                  Investigation took more than 30 days   \n",
       "Consumer complaint narrative  hi experian has a low and unfair credit number...   \n",
       "Company public response       Company has responded to the consumer and the ...   \n",
       "Company                                     Experian Information Solutions Inc.   \n",
       "State                                                                        IL   \n",
       "ZIP code                                                                60615.0   \n",
       "Tags                                                              Servicemember   \n",
       "Consumer consent provided?                                     Consent provided   \n",
       "Submitted via                                                               Web   \n",
       "Date sent to company                                                 2021-10-12   \n",
       "Company response to consumer                    Closed with non-monetary relief   \n",
       "Timely response?                                                            Yes   \n",
       "Consumer disputed?                                                          NaN   \n",
       "Complaint ID                                                            4799925   \n",
       "\n",
       "                                                                              1  \\\n",
       "Date received                                                        2021-01-12   \n",
       "Product                       Credit reporting, credit repair services, or o...   \n",
       "Sub-product                                                    Credit reporting   \n",
       "Issue                                      Incorrect information on your report   \n",
       "Sub-issue                                   Information belongs to someone else   \n",
       "Consumer complaint narrative  I disputed innacurate accounts reported by you...   \n",
       "Company public response       Company has responded to the consumer and the ...   \n",
       "Company                                  TRANSUNION INTERMEDIATE HOLDINGS, INC.   \n",
       "State                                                                        IL   \n",
       "ZIP code                                                                60615.0   \n",
       "Tags                                                                        NaN   \n",
       "Consumer consent provided?                                     Consent provided   \n",
       "Submitted via                                                               Web   \n",
       "Date sent to company                                                 2021-01-12   \n",
       "Company response to consumer                            Closed with explanation   \n",
       "Timely response?                                                            Yes   \n",
       "Consumer disputed?                                                          NaN   \n",
       "Complaint ID                                                            4061709   \n",
       "\n",
       "                                                                              2  \n",
       "Date received                                                        2023-01-24  \n",
       "Product                       Credit reporting, credit repair services, or o...  \n",
       "Sub-product                                                    Credit reporting  \n",
       "Issue                         Problem with a credit reporting company's inve...  \n",
       "Sub-issue                     Their investigation did not fix an error on yo...  \n",
       "Consumer complaint narrative  I have continued to dispute this account with ...  \n",
       "Company public response                                                     NaN  \n",
       "Company                                                           EQUIFAX, INC.  \n",
       "State                                                                        FL  \n",
       "ZIP code                                                                33823.0  \n",
       "Tags                                                                        NaN  \n",
       "Consumer consent provided?                                     Consent provided  \n",
       "Submitted via                                                               Web  \n",
       "Date sent to company                                                 2023-01-24  \n",
       "Company response to consumer                            Closed with explanation  \n",
       "Timely response?                                                            Yes  \n",
       "Consumer disputed?                                                          NaN  \n",
       "Complaint ID                                                            6482822  "
      ]
     },
     "execution_count": 5,
     "metadata": {},
     "output_type": "execute_result"
    }
   ],
   "source": [
    "df.head(3).T"
   ]
  },
  {
   "cell_type": "code",
   "execution_count": 6,
   "metadata": {
    "colab": {
     "base_uri": "https://localhost:8080/",
     "height": 127
    },
    "id": "RFvjU4KB4BgB",
    "outputId": "7c8d8420-ed0b-4069-f71d-80d56561371e"
   },
   "outputs": [
    {
     "name": "stdout",
     "output_type": "stream",
     "text": [
      "(1254126, 2)\n"
     ]
    },
    {
     "data": {
      "text/html": [
       "<div>\n",
       "<style scoped>\n",
       "    .dataframe tbody tr th:only-of-type {\n",
       "        vertical-align: middle;\n",
       "    }\n",
       "\n",
       "    .dataframe tbody tr th {\n",
       "        vertical-align: top;\n",
       "    }\n",
       "\n",
       "    .dataframe thead th {\n",
       "        text-align: right;\n",
       "    }\n",
       "</style>\n",
       "<table border=\"1\" class=\"dataframe\">\n",
       "  <thead>\n",
       "    <tr style=\"text-align: right;\">\n",
       "      <th></th>\n",
       "      <th>0</th>\n",
       "      <th>1</th>\n",
       "    </tr>\n",
       "  </thead>\n",
       "  <tbody>\n",
       "    <tr>\n",
       "      <th>Product</th>\n",
       "      <td>Credit reporting, credit repair services, or o...</td>\n",
       "      <td>Credit reporting, credit repair services, or o...</td>\n",
       "    </tr>\n",
       "    <tr>\n",
       "      <th>Consumer_complaint</th>\n",
       "      <td>hi experian has a low and unfair credit number...</td>\n",
       "      <td>I disputed innacurate accounts reported by you...</td>\n",
       "    </tr>\n",
       "  </tbody>\n",
       "</table>\n",
       "</div>"
      ],
      "text/plain": [
       "                                                                    0  \\\n",
       "Product             Credit reporting, credit repair services, or o...   \n",
       "Consumer_complaint  hi experian has a low and unfair credit number...   \n",
       "\n",
       "                                                                    1  \n",
       "Product             Credit reporting, credit repair services, or o...  \n",
       "Consumer_complaint  I disputed innacurate accounts reported by you...  "
      ]
     },
     "execution_count": 6,
     "metadata": {},
     "output_type": "execute_result"
    }
   ],
   "source": [
    "# Create a new dataframe with two columns\n",
    "df1 = df[['Product', 'Consumer complaint narrative']].copy()\n",
    "\n",
    "# Remove missing values (NaN)\n",
    "df1 = df1[pd.notnull(df1['Consumer complaint narrative'])]\n",
    "\n",
    "# Renaming second column for a simpler name\n",
    "df1.columns = ['Product', 'Consumer_complaint'] \n",
    "\n",
    "print(df1.shape)\n",
    "\n",
    "df1.head(2).T"
   ]
  },
  {
   "cell_type": "code",
   "execution_count": 7,
   "metadata": {
    "colab": {
     "base_uri": "https://localhost:8080/"
    },
    "id": "qf8O4Xa77laL",
    "outputId": "3f3c5e97-05ee-4391-b22b-3641bcde4998"
   },
   "outputs": [
    {
     "data": {
      "text/plain": [
       "array([['Credit reporting, credit repair services, or other personal consumer reports'],\n",
       "       ['Mortgage'],\n",
       "       ['Debt collection'],\n",
       "       ['Checking or savings account'],\n",
       "       ['Vehicle loan or lease'],\n",
       "       ['Credit card or prepaid card'],\n",
       "       ['Student loan'],\n",
       "       ['Money transfer, virtual currency, or money service'],\n",
       "       ['Payday loan, title loan, or personal loan'],\n",
       "       ['Payday loan'],\n",
       "       ['Consumer Loan'],\n",
       "       ['Money transfers'],\n",
       "       ['Credit reporting'],\n",
       "       ['Credit card'],\n",
       "       ['Other financial service'],\n",
       "       ['Prepaid card'],\n",
       "       ['Bank account or service'],\n",
       "       ['Virtual currency']], dtype=object)"
      ]
     },
     "execution_count": 7,
     "metadata": {},
     "output_type": "execute_result"
    }
   ],
   "source": [
    "pd.DataFrame(df1.Product.unique()).values"
   ]
  },
  {
   "cell_type": "code",
   "execution_count": 8,
   "metadata": {
    "id": "Fa3A_pim8VZu"
   },
   "outputs": [],
   "source": [
    "# Because the computation is time consuming (in terms of CPU), the data was sampled\n",
    "df2 = df1.sample(10000, random_state=1).copy()"
   ]
  },
  {
   "cell_type": "code",
   "execution_count": 9,
   "metadata": {
    "id": "vcFwMo8WA_20"
   },
   "outputs": [],
   "source": [
    "# Renaming categories\n",
    "df2.replace({'Product': \n",
    "             {'Credit reporting, credit repair services, or other personal consumer reports': 'Credit reporting, repair, or other', \n",
    "              'Credit reporting': 'Credit reporting, repair, or other',\n",
    "             'Credit card': 'Credit card or prepaid card',\n",
    "             'Prepaid card': 'Credit card or prepaid card',\n",
    "             'Payday loan': 'Payday loan, title loan, or personal loan',\n",
    "             'Money transfer': 'Money transfer, virtual currency, or money service',\n",
    "             'Virtual currency': 'Money transfer, virtual currency, or money service'}}, \n",
    "            inplace= True)\n"
   ]
  },
  {
   "cell_type": "code",
   "execution_count": 10,
   "metadata": {
    "colab": {
     "base_uri": "https://localhost:8080/",
     "height": 450
    },
    "id": "uJuu1fg8A_6m",
    "outputId": "688bd0ff-088b-47df-950b-9347db9ad828"
   },
   "outputs": [
    {
     "data": {
      "text/html": [
       "<div>\n",
       "<style scoped>\n",
       "    .dataframe tbody tr th:only-of-type {\n",
       "        vertical-align: middle;\n",
       "    }\n",
       "\n",
       "    .dataframe tbody tr th {\n",
       "        vertical-align: top;\n",
       "    }\n",
       "\n",
       "    .dataframe thead th {\n",
       "        text-align: right;\n",
       "    }\n",
       "</style>\n",
       "<table border=\"1\" class=\"dataframe\">\n",
       "  <thead>\n",
       "    <tr style=\"text-align: right;\">\n",
       "      <th></th>\n",
       "      <th>0</th>\n",
       "    </tr>\n",
       "  </thead>\n",
       "  <tbody>\n",
       "    <tr>\n",
       "      <th>0</th>\n",
       "      <td>Credit reporting, repair, or other</td>\n",
       "    </tr>\n",
       "    <tr>\n",
       "      <th>1</th>\n",
       "      <td>Vehicle loan or lease</td>\n",
       "    </tr>\n",
       "    <tr>\n",
       "      <th>2</th>\n",
       "      <td>Bank account or service</td>\n",
       "    </tr>\n",
       "    <tr>\n",
       "      <th>3</th>\n",
       "      <td>Payday loan, title loan, or personal loan</td>\n",
       "    </tr>\n",
       "    <tr>\n",
       "      <th>4</th>\n",
       "      <td>Student loan</td>\n",
       "    </tr>\n",
       "    <tr>\n",
       "      <th>5</th>\n",
       "      <td>Credit card or prepaid card</td>\n",
       "    </tr>\n",
       "    <tr>\n",
       "      <th>6</th>\n",
       "      <td>Checking or savings account</td>\n",
       "    </tr>\n",
       "    <tr>\n",
       "      <th>7</th>\n",
       "      <td>Debt collection</td>\n",
       "    </tr>\n",
       "    <tr>\n",
       "      <th>8</th>\n",
       "      <td>Mortgage</td>\n",
       "    </tr>\n",
       "    <tr>\n",
       "      <th>9</th>\n",
       "      <td>Money transfer, virtual currency, or money ser...</td>\n",
       "    </tr>\n",
       "    <tr>\n",
       "      <th>10</th>\n",
       "      <td>Consumer Loan</td>\n",
       "    </tr>\n",
       "    <tr>\n",
       "      <th>11</th>\n",
       "      <td>Money transfers</td>\n",
       "    </tr>\n",
       "    <tr>\n",
       "      <th>12</th>\n",
       "      <td>Other financial service</td>\n",
       "    </tr>\n",
       "  </tbody>\n",
       "</table>\n",
       "</div>"
      ],
      "text/plain": [
       "                                                    0\n",
       "0                  Credit reporting, repair, or other\n",
       "1                               Vehicle loan or lease\n",
       "2                             Bank account or service\n",
       "3           Payday loan, title loan, or personal loan\n",
       "4                                        Student loan\n",
       "5                         Credit card or prepaid card\n",
       "6                         Checking or savings account\n",
       "7                                     Debt collection\n",
       "8                                            Mortgage\n",
       "9   Money transfer, virtual currency, or money ser...\n",
       "10                                      Consumer Loan\n",
       "11                                    Money transfers\n",
       "12                            Other financial service"
      ]
     },
     "execution_count": 10,
     "metadata": {},
     "output_type": "execute_result"
    }
   ],
   "source": [
    "pd.DataFrame(df2.Product.unique())"
   ]
  },
  {
   "cell_type": "markdown",
   "metadata": {},
   "source": [
    "The factorize() method is used to encode categorical values as integers. It returns a tuple of two arrays: the first array contains the encoded values and the second array contains the unique categorical values that were encoded."
   ]
  },
  {
   "cell_type": "code",
   "execution_count": 11,
   "metadata": {
    "colab": {
     "base_uri": "https://localhost:8080/",
     "height": 203
    },
    "id": "RLSUbBPvBACO",
    "outputId": "78c9dff3-5cce-489b-eac4-02cb8d2b6b93"
   },
   "outputs": [
    {
     "data": {
      "text/html": [
       "<div>\n",
       "<style scoped>\n",
       "    .dataframe tbody tr th:only-of-type {\n",
       "        vertical-align: middle;\n",
       "    }\n",
       "\n",
       "    .dataframe tbody tr th {\n",
       "        vertical-align: top;\n",
       "    }\n",
       "\n",
       "    .dataframe thead th {\n",
       "        text-align: right;\n",
       "    }\n",
       "</style>\n",
       "<table border=\"1\" class=\"dataframe\">\n",
       "  <thead>\n",
       "    <tr style=\"text-align: right;\">\n",
       "      <th></th>\n",
       "      <th>Product</th>\n",
       "      <th>Consumer_complaint</th>\n",
       "      <th>category_id</th>\n",
       "    </tr>\n",
       "  </thead>\n",
       "  <tbody>\n",
       "    <tr>\n",
       "      <th>340282</th>\n",
       "      <td>Credit reporting, repair, or other</td>\n",
       "      <td>I was notified by mail about a data leak from ...</td>\n",
       "      <td>0</td>\n",
       "    </tr>\n",
       "    <tr>\n",
       "      <th>3235493</th>\n",
       "      <td>Credit reporting, repair, or other</td>\n",
       "      <td>Hi, I can't believe you guys are taking advant...</td>\n",
       "      <td>0</td>\n",
       "    </tr>\n",
       "    <tr>\n",
       "      <th>2316490</th>\n",
       "      <td>Vehicle loan or lease</td>\n",
       "      <td>I have already submitted a complaint with CFPB...</td>\n",
       "      <td>1</td>\n",
       "    </tr>\n",
       "    <tr>\n",
       "      <th>2845022</th>\n",
       "      <td>Credit reporting, repair, or other</td>\n",
       "      <td>In accordance with the Fair Credit Reporting A...</td>\n",
       "      <td>0</td>\n",
       "    </tr>\n",
       "    <tr>\n",
       "      <th>908128</th>\n",
       "      <td>Credit reporting, repair, or other</td>\n",
       "      <td>Used XXXX XXXX site that showed me a page with...</td>\n",
       "      <td>0</td>\n",
       "    </tr>\n",
       "  </tbody>\n",
       "</table>\n",
       "</div>"
      ],
      "text/plain": [
       "                                    Product  \\\n",
       "340282   Credit reporting, repair, or other   \n",
       "3235493  Credit reporting, repair, or other   \n",
       "2316490               Vehicle loan or lease   \n",
       "2845022  Credit reporting, repair, or other   \n",
       "908128   Credit reporting, repair, or other   \n",
       "\n",
       "                                        Consumer_complaint  category_id  \n",
       "340282   I was notified by mail about a data leak from ...            0  \n",
       "3235493  Hi, I can't believe you guys are taking advant...            0  \n",
       "2316490  I have already submitted a complaint with CFPB...            1  \n",
       "2845022  In accordance with the Fair Credit Reporting A...            0  \n",
       "908128   Used XXXX XXXX site that showed me a page with...            0  "
      ]
     },
     "execution_count": 11,
     "metadata": {},
     "output_type": "execute_result"
    }
   ],
   "source": [
    "# Create a new column 'category_id' with encoded categories \n",
    "df2['category_id'] = df2['Product'].factorize()[0]\n",
    "category_id_df = df2[['Product', 'category_id']].drop_duplicates()\n",
    "\n",
    "\n",
    "# Dictionaries for future use\n",
    "category_to_id = dict(category_id_df.values)\n",
    "id_to_category = dict(category_id_df[['category_id', 'Product']].values)\n",
    "\n",
    "# New dataframe\n",
    "df2.head()"
   ]
  },
  {
   "cell_type": "code",
   "execution_count": 12,
   "metadata": {
    "colab": {
     "base_uri": "https://localhost:8080/",
     "height": 419
    },
    "id": "PItp5LKABAEq",
    "outputId": "718012c1-e2fa-4c6a-edbd-8a68bbe2856d"
   },
   "outputs": [
    {
     "data": {
      "image/png": "[encoded data removed]",
      "text/plain": [
       "<Figure size 576x432 with 1 Axes>"
      ]
     },
     "metadata": {
      "needs_background": "light"
     },
     "output_type": "display_data"
    }
   ],
   "source": [
    "fig = plt.figure(figsize=(8,6))\n",
    "colors = ['grey','grey','grey','grey','grey','grey','grey','grey','grey', 'grey','darkblue','darkblue','darkblue']\n",
    "df2.groupby('Product').Consumer_complaint.count().sort_values().plot.barh(\n",
    "    ylim=0, color=colors, title= 'NUMBER OF COMPLAINTS IN EACH PRODUCT CATEGORY\\n')\n",
    "plt.xlabel('Number of ocurrences', fontsize = 10);"
   ]
  },
  {
   "cell_type": "markdown",
   "metadata": {},
   "source": [
    "### Text processing"
   ]
  },
  {
   "cell_type": "code",
   "execution_count": 13,
   "metadata": {
    "colab": {
     "base_uri": "https://localhost:8080/"
    },
    "id": "J9j4zM7VBAHI",
    "outputId": "9ba03b09-2b39-4495-caa0-36463cf6917d"
   },
   "outputs": [
    {
     "name": "stdout",
     "output_type": "stream",
     "text": [
      "Each of the 10000 complaints is represented by 26360 features (TF-IDF score of unigrams and bigrams)\n"
     ]
    }
   ],
   "source": [
    "tfidf = TfidfVectorizer(sublinear_tf=True, min_df=5,\n",
    "                        ngram_range=(1, 2), \n",
    "                        stop_words='english')\n",
    "\n",
    "# We transform each complaint into a vector\n",
    "features = tfidf.fit_transform(df2.Consumer_complaint).toarray()\n",
    "\n",
    "labels = df2.category_id\n",
    "\n",
    "print(\"Each of the %d complaints is represented by %d features (TF-IDF score of unigrams and bigrams)\" %(features.shape))"
   ]
  },
  {
   "cell_type": "code",
   "execution_count": 15,
   "metadata": {
    "colab": {
     "base_uri": "https://localhost:8080/"
    },
    "id": "imNSO4dEB46w",
    "outputId": "88ad1118-f6c2-4586-8612-050909507a86"
   },
   "outputs": [
    {
     "name": "stderr",
     "output_type": "stream",
     "text": [
      "d:\\anaconda3\\lib\\site-packages\\sklearn\\utils\\deprecation.py:87: FutureWarning: Function get_feature_names is deprecated; get_feature_names is deprecated in 1.0 and will be removed in 1.2. Please use get_feature_names_out instead.\n",
      "  warnings.warn(msg, category=FutureWarning)\n"
     ]
    },
    {
     "name": "stdout",
     "output_type": "stream",
     "text": [
      "\n",
      "==> Bank account or service:\n",
      "  * Most Correlated Unigrams are: bank, passwords, overdraft\n",
      "  * Most Correlated Bigrams are: overdraft fee, bank website, checking account\n"
     ]
    },
    {
     "name": "stderr",
     "output_type": "stream",
     "text": [
      "d:\\anaconda3\\lib\\site-packages\\sklearn\\utils\\deprecation.py:87: FutureWarning: Function get_feature_names is deprecated; get_feature_names is deprecated in 1.0 and will be removed in 1.2. Please use get_feature_names_out instead.\n",
      "  warnings.warn(msg, category=FutureWarning)\n"
     ]
    },
    {
     "name": "stdout",
     "output_type": "stream",
     "text": [
      "\n",
      "==> Checking or savings account:\n",
      "  * Most Correlated Unigrams are: deposited, branch, checking\n",
      "  * Most Correlated Bigrams are: savings account, wells fargo, checking account\n"
     ]
    },
    {
     "name": "stderr",
     "output_type": "stream",
     "text": [
      "d:\\anaconda3\\lib\\site-packages\\sklearn\\utils\\deprecation.py:87: FutureWarning: Function get_feature_names is deprecated; get_feature_names is deprecated in 1.0 and will be removed in 1.2. Please use get_feature_names_out instead.\n",
      "  warnings.warn(msg, category=FutureWarning)\n"
     ]
    },
    {
     "name": "stdout",
     "output_type": "stream",
     "text": [
      "\n",
      "==> Consumer Loan:\n",
      "  * Most Correlated Unigrams are: ford, max, car\n",
      "  * Most Correlated Bigrams are: car car, discrimination xxxx, fargo dealer\n"
     ]
    },
    {
     "name": "stderr",
     "output_type": "stream",
     "text": [
      "d:\\anaconda3\\lib\\site-packages\\sklearn\\utils\\deprecation.py:87: FutureWarning: Function get_feature_names is deprecated; get_feature_names is deprecated in 1.0 and will be removed in 1.2. Please use get_feature_names_out instead.\n",
      "  warnings.warn(msg, category=FutureWarning)\n"
     ]
    },
    {
     "name": "stdout",
     "output_type": "stream",
     "text": [
      "\n",
      "==> Credit card or prepaid card:\n",
      "  * Most Correlated Unigrams are: visa, express, card\n",
      "  * Most Correlated Bigrams are: card company, american express, credit card\n"
     ]
    },
    {
     "name": "stderr",
     "output_type": "stream",
     "text": [
      "d:\\anaconda3\\lib\\site-packages\\sklearn\\utils\\deprecation.py:87: FutureWarning: Function get_feature_names is deprecated; get_feature_names is deprecated in 1.0 and will be removed in 1.2. Please use get_feature_names_out instead.\n",
      "  warnings.warn(msg, category=FutureWarning)\n"
     ]
    },
    {
     "name": "stdout",
     "output_type": "stream",
     "text": [
      "\n",
      "==> Credit reporting, repair, or other:\n",
      "  * Most Correlated Unigrams are: 1681, section, reporting\n",
      "  * Most Correlated Bigrams are: credit report, 15 1681, 1681 section\n"
     ]
    },
    {
     "name": "stderr",
     "output_type": "stream",
     "text": [
      "d:\\anaconda3\\lib\\site-packages\\sklearn\\utils\\deprecation.py:87: FutureWarning: Function get_feature_names is deprecated; get_feature_names is deprecated in 1.0 and will be removed in 1.2. Please use get_feature_names_out instead.\n",
      "  warnings.warn(msg, category=FutureWarning)\n"
     ]
    },
    {
     "name": "stdout",
     "output_type": "stream",
     "text": [
      "\n",
      "==> Debt collection:\n",
      "  * Most Correlated Unigrams are: collect, collection, debt\n",
      "  * Most Correlated Bigrams are: collection agency, debt collection, collect debt\n"
     ]
    },
    {
     "name": "stderr",
     "output_type": "stream",
     "text": [
      "d:\\anaconda3\\lib\\site-packages\\sklearn\\utils\\deprecation.py:87: FutureWarning: Function get_feature_names is deprecated; get_feature_names is deprecated in 1.0 and will be removed in 1.2. Please use get_feature_names_out instead.\n",
      "  warnings.warn(msg, category=FutureWarning)\n"
     ]
    },
    {
     "name": "stdout",
     "output_type": "stream",
     "text": [
      "\n",
      "==> Money transfer, virtual currency, or money service:\n",
      "  * Most Correlated Unigrams are: crypto, paypal, coinbase\n",
      "  * Most Correlated Bigrams are: coinbase account, western union, paypal account\n"
     ]
    },
    {
     "name": "stderr",
     "output_type": "stream",
     "text": [
      "d:\\anaconda3\\lib\\site-packages\\sklearn\\utils\\deprecation.py:87: FutureWarning: Function get_feature_names is deprecated; get_feature_names is deprecated in 1.0 and will be removed in 1.2. Please use get_feature_names_out instead.\n",
      "  warnings.warn(msg, category=FutureWarning)\n"
     ]
    },
    {
     "name": "stdout",
     "output_type": "stream",
     "text": [
      "\n",
      "==> Money transfers:\n",
      "  * Most Correlated Unigrams are: relationships, bounce, google\n",
      "  * Most Correlated Bigrams are: money left, paypal credit, money transfer\n"
     ]
    },
    {
     "name": "stderr",
     "output_type": "stream",
     "text": [
      "d:\\anaconda3\\lib\\site-packages\\sklearn\\utils\\deprecation.py:87: FutureWarning: Function get_feature_names is deprecated; get_feature_names is deprecated in 1.0 and will be removed in 1.2. Please use get_feature_names_out instead.\n",
      "  warnings.warn(msg, category=FutureWarning)\n"
     ]
    },
    {
     "name": "stdout",
     "output_type": "stream",
     "text": [
      "\n",
      "==> Mortgage:\n",
      "  * Most Correlated Unigrams are: modification, escrow, mortgage\n",
      "  * Most Correlated Bigrams are: loan modification, mortgage payment, mortgage company\n"
     ]
    },
    {
     "name": "stderr",
     "output_type": "stream",
     "text": [
      "d:\\anaconda3\\lib\\site-packages\\sklearn\\utils\\deprecation.py:87: FutureWarning: Function get_feature_names is deprecated; get_feature_names is deprecated in 1.0 and will be removed in 1.2. Please use get_feature_names_out instead.\n",
      "  warnings.warn(msg, category=FutureWarning)\n"
     ]
    },
    {
     "name": "stdout",
     "output_type": "stream",
     "text": [
      "\n",
      "==> Other financial service:\n",
      "  * Most Correlated Unigrams are: ext, nationwide, doc\n",
      "  * Most Correlated Bigrams are: communication received, public service, employed time\n"
     ]
    },
    {
     "name": "stderr",
     "output_type": "stream",
     "text": [
      "d:\\anaconda3\\lib\\site-packages\\sklearn\\utils\\deprecation.py:87: FutureWarning: Function get_feature_names is deprecated; get_feature_names is deprecated in 1.0 and will be removed in 1.2. Please use get_feature_names_out instead.\n",
      "  warnings.warn(msg, category=FutureWarning)\n"
     ]
    },
    {
     "name": "stdout",
     "output_type": "stream",
     "text": [
      "\n",
      "==> Payday loan, title loan, or personal loan:\n",
      "  * Most Correlated Unigrams are: loan, borrowed, payday\n",
      "  * Most Correlated Bigrams are: pay loan, payday loan, payday loans\n"
     ]
    },
    {
     "name": "stderr",
     "output_type": "stream",
     "text": [
      "d:\\anaconda3\\lib\\site-packages\\sklearn\\utils\\deprecation.py:87: FutureWarning: Function get_feature_names is deprecated; get_feature_names is deprecated in 1.0 and will be removed in 1.2. Please use get_feature_names_out instead.\n",
      "  warnings.warn(msg, category=FutureWarning)\n"
     ]
    },
    {
     "name": "stdout",
     "output_type": "stream",
     "text": [
      "\n",
      "==> Student loan:\n",
      "  * Most Correlated Unigrams are: loans, student, navient\n",
      "  * Most Correlated Bigrams are: student loans, loan forgiveness, student loan\n",
      "\n",
      "==> Vehicle loan or lease:\n",
      "  * Most Correlated Unigrams are: gap, vehicle, car\n",
      "  * Most Correlated Bigrams are: purchased vehicle, auto loan, gap insurance\n"
     ]
    },
    {
     "name": "stderr",
     "output_type": "stream",
     "text": [
      "d:\\anaconda3\\lib\\site-packages\\sklearn\\utils\\deprecation.py:87: FutureWarning: Function get_feature_names is deprecated; get_feature_names is deprecated in 1.0 and will be removed in 1.2. Please use get_feature_names_out instead.\n",
      "  warnings.warn(msg, category=FutureWarning)\n"
     ]
    }
   ],
   "source": [
    "# Finding the three most correlated terms with each of the product categories\n",
    "N = 3\n",
    "for Product, category_id in sorted(category_to_id.items()):\n",
    "  features_chi2 = chi2(features, labels == category_id)\n",
    "  indices = np.argsort(features_chi2[0])\n",
    "  feature_names = np.array(tfidf.get_feature_names())[indices]\n",
    "  unigrams = [v for v in feature_names if len(v.split(' ')) == 1]\n",
    "  bigrams = [v for v in feature_names if len(v.split(' ')) == 2]\n",
    "  print(\"\\n==> %s:\" %(Product))\n",
    "  print(\"  * Most Correlated Unigrams are: %s\" %(', '.join(unigrams[-N:])))\n",
    "  print(\"  * Most Correlated Bigrams are: %s\" %(', '.join(bigrams[-N:])))"
   ]
  },
  {
   "cell_type": "markdown",
   "metadata": {},
   "source": [
    "### Models"
   ]
  },
  {
   "cell_type": "code",
   "execution_count": 14,
   "metadata": {
    "id": "vbevVCbbB6UX"
   },
   "outputs": [],
   "source": [
    "X = df2['Consumer_complaint'] # Collection of documents\n",
    "y = df2['Product'] # Target or the labels we want to predict (i.e., the 13 different complaints of products)\n",
    "\n",
    "X_train, X_test, y_train, y_test = train_test_split(X, y, test_size=0.25, random_state = 0)"
   ]
  },
  {
   "cell_type": "code",
   "execution_count": 17,
   "metadata": {
    "colab": {
     "base_uri": "https://localhost:8080/"
    },
    "id": "vebCrd6DB6Wu",
    "outputId": "27c08ae0-2793-46ea-a9e1-a9f0a7ea355f"
   },
   "outputs": [
    {
     "name": "stderr",
     "output_type": "stream",
     "text": [
      "d:\\anaconda3\\lib\\site-packages\\sklearn\\model_selection\\_split.py:676: UserWarning: The least populated class in y has only 2 members, which is less than n_splits=5.\n",
      "  warnings.warn(\n",
      "d:\\anaconda3\\lib\\site-packages\\sklearn\\model_selection\\_split.py:676: UserWarning: The least populated class in y has only 2 members, which is less than n_splits=5.\n",
      "  warnings.warn(\n",
      "d:\\anaconda3\\lib\\site-packages\\sklearn\\model_selection\\_split.py:676: UserWarning: The least populated class in y has only 2 members, which is less than n_splits=5.\n",
      "  warnings.warn(\n",
      "d:\\anaconda3\\lib\\site-packages\\sklearn\\model_selection\\_split.py:676: UserWarning: The least populated class in y has only 2 members, which is less than n_splits=5.\n",
      "  warnings.warn(\n",
      "d:\\anaconda3\\lib\\site-packages\\sklearn\\linear_model\\_logistic.py:814: ConvergenceWarning: lbfgs failed to converge (status=1):\n",
      "STOP: TOTAL NO. of ITERATIONS REACHED LIMIT.\n",
      "\n",
      "Increase the number of iterations (max_iter) or scale the data as shown in:\n",
      "    https://scikit-learn.org/stable/modules/preprocessing.html\n",
      "Please also refer to the documentation for alternative solver options:\n",
      "    https://scikit-learn.org/stable/modules/linear_model.html#logistic-regression\n",
      "  n_iter_i = _check_optimize_result(\n",
      "d:\\anaconda3\\lib\\site-packages\\sklearn\\linear_model\\_logistic.py:814: ConvergenceWarning: lbfgs failed to converge (status=1):\n",
      "STOP: TOTAL NO. of ITERATIONS REACHED LIMIT.\n",
      "\n",
      "Increase the number of iterations (max_iter) or scale the data as shown in:\n",
      "    https://scikit-learn.org/stable/modules/preprocessing.html\n",
      "Please also refer to the documentation for alternative solver options:\n",
      "    https://scikit-learn.org/stable/modules/linear_model.html#logistic-regression\n",
      "  n_iter_i = _check_optimize_result(\n",
      "d:\\anaconda3\\lib\\site-packages\\sklearn\\linear_model\\_logistic.py:814: ConvergenceWarning: lbfgs failed to converge (status=1):\n",
      "STOP: TOTAL NO. of ITERATIONS REACHED LIMIT.\n",
      "\n",
      "Increase the number of iterations (max_iter) or scale the data as shown in:\n",
      "    https://scikit-learn.org/stable/modules/preprocessing.html\n",
      "Please also refer to the documentation for alternative solver options:\n",
      "    https://scikit-learn.org/stable/modules/linear_model.html#logistic-regression\n",
      "  n_iter_i = _check_optimize_result(\n",
      "d:\\anaconda3\\lib\\site-packages\\sklearn\\linear_model\\_logistic.py:814: ConvergenceWarning: lbfgs failed to converge (status=1):\n",
      "STOP: TOTAL NO. of ITERATIONS REACHED LIMIT.\n",
      "\n",
      "Increase the number of iterations (max_iter) or scale the data as shown in:\n",
      "    https://scikit-learn.org/stable/modules/preprocessing.html\n",
      "Please also refer to the documentation for alternative solver options:\n",
      "    https://scikit-learn.org/stable/modules/linear_model.html#logistic-regression\n",
      "  n_iter_i = _check_optimize_result(\n",
      "d:\\anaconda3\\lib\\site-packages\\sklearn\\linear_model\\_logistic.py:814: ConvergenceWarning: lbfgs failed to converge (status=1):\n",
      "STOP: TOTAL NO. of ITERATIONS REACHED LIMIT.\n",
      "\n",
      "Increase the number of iterations (max_iter) or scale the data as shown in:\n",
      "    https://scikit-learn.org/stable/modules/preprocessing.html\n",
      "Please also refer to the documentation for alternative solver options:\n",
      "    https://scikit-learn.org/stable/modules/linear_model.html#logistic-regression\n",
      "  n_iter_i = _check_optimize_result(\n"
     ]
    }
   ],
   "source": [
    "models = [\n",
    "    RandomForestClassifier(n_estimators=100, max_depth=5, random_state=0),\n",
    "    LinearSVC(),\n",
    "    MultinomialNB(),\n",
    "    LogisticRegression(random_state=0),\n",
    "]\n",
    "\n",
    "# 5 Cross-validation\n",
    "CV = 5\n",
    "cv_df = pd.DataFrame(index=range(CV * len(models)))\n",
    "\n",
    "entries = []\n",
    "for model in models:\n",
    "  model_name = model.__class__.__name__\n",
    "  accuracies = cross_val_score(model, features, labels, scoring='accuracy', cv=CV)\n",
    "  for fold_idx, accuracy in enumerate(accuracies):\n",
    "    entries.append((model_name, fold_idx, accuracy))\n",
    "    \n",
    "cv_df = pd.DataFrame(entries, columns=['model_name', 'fold_idx', 'accuracy'])"
   ]
  },
  {
   "cell_type": "code",
   "execution_count": 18,
   "metadata": {
    "colab": {
     "base_uri": "https://localhost:8080/",
     "height": 203
    },
    "id": "xXnlQU9fB6Y6",
    "outputId": "bb30e020-f73d-4a52-9c0a-118e93a51f4d"
   },
   "outputs": [
    {
     "data": {
      "text/html": [
       "<div>\n",
       "<style scoped>\n",
       "    .dataframe tbody tr th:only-of-type {\n",
       "        vertical-align: middle;\n",
       "    }\n",
       "\n",
       "    .dataframe tbody tr th {\n",
       "        vertical-align: top;\n",
       "    }\n",
       "\n",
       "    .dataframe thead th {\n",
       "        text-align: right;\n",
       "    }\n",
       "</style>\n",
       "<table border=\"1\" class=\"dataframe\">\n",
       "  <thead>\n",
       "    <tr style=\"text-align: right;\">\n",
       "      <th></th>\n",
       "      <th>Mean Accuracy</th>\n",
       "      <th>Standard deviation</th>\n",
       "    </tr>\n",
       "    <tr>\n",
       "      <th>model_name</th>\n",
       "      <th></th>\n",
       "      <th></th>\n",
       "    </tr>\n",
       "  </thead>\n",
       "  <tbody>\n",
       "    <tr>\n",
       "      <th>LinearSVC</th>\n",
       "      <td>0.8237</td>\n",
       "      <td>0.009271</td>\n",
       "    </tr>\n",
       "    <tr>\n",
       "      <th>LogisticRegression</th>\n",
       "      <td>0.7973</td>\n",
       "      <td>0.008636</td>\n",
       "    </tr>\n",
       "    <tr>\n",
       "      <th>MultinomialNB</th>\n",
       "      <td>0.6695</td>\n",
       "      <td>0.008352</td>\n",
       "    </tr>\n",
       "    <tr>\n",
       "      <th>RandomForestClassifier</th>\n",
       "      <td>0.5184</td>\n",
       "      <td>0.000418</td>\n",
       "    </tr>\n",
       "  </tbody>\n",
       "</table>\n",
       "</div>"
      ],
      "text/plain": [
       "                        Mean Accuracy  Standard deviation\n",
       "model_name                                               \n",
       "LinearSVC                      0.8237            0.009271\n",
       "LogisticRegression             0.7973            0.008636\n",
       "MultinomialNB                  0.6695            0.008352\n",
       "RandomForestClassifier         0.5184            0.000418"
      ]
     },
     "execution_count": 18,
     "metadata": {},
     "output_type": "execute_result"
    }
   ],
   "source": [
    "mean_accuracy = cv_df.groupby('model_name').accuracy.mean()\n",
    "std_accuracy = cv_df.groupby('model_name').accuracy.std()\n",
    "\n",
    "acc = pd.concat([mean_accuracy, std_accuracy], axis= 1, ignore_index=True)\n",
    "acc.columns = ['Mean Accuracy', 'Standard deviation']\n",
    "acc"
   ]
  },
  {
   "cell_type": "code",
   "execution_count": 19,
   "metadata": {
    "colab": {
     "base_uri": "https://localhost:8080/",
     "height": 368
    },
    "id": "-f03n6P8B6cV",
    "outputId": "ecf73791-aa32-4e6e-969b-832ad1eb74f5"
   },
   "outputs": [
    {
     "data": {
      "image/png": "[encoded data removed]",
      "text/plain": [
       "<Figure size 576x360 with 1 Axes>"
      ]
     },
     "metadata": {
      "needs_background": "light"
     },
     "output_type": "display_data"
    }
   ],
   "source": [
    "plt.figure(figsize=(8,5))\n",
    "sns.boxplot(x='model_name', y='accuracy', \n",
    "            data=cv_df, \n",
    "            color='lightblue', \n",
    "            showmeans=True)\n",
    "plt.title(\"MEAN ACCURACY (cv = 5)\\n\", size=14);"
   ]
  },
  {
   "cell_type": "code",
   "execution_count": 20,
   "metadata": {
    "id": "Wk1yHgJUB6gX"
   },
   "outputs": [],
   "source": [
    "X_train, X_test, y_train, y_test, indices_train, indices_test = train_test_split(features, labels, df2.index, test_size=0.25, random_state=1)\n",
    "model = LinearSVC()\n",
    "model.fit(X_train, y_train)\n",
    "y_pred = model.predict(X_test)"
   ]
  },
  {
   "cell_type": "code",
   "execution_count": 21,
   "metadata": {},
   "outputs": [
    {
     "data": {
      "text/plain": [
       "array(['Credit reporting, repair, or other', 'Vehicle loan or lease',\n",
       "       'Bank account or service',\n",
       "       'Payday loan, title loan, or personal loan', 'Student loan',\n",
       "       'Credit card or prepaid card', 'Checking or savings account',\n",
       "       'Debt collection', 'Mortgage',\n",
       "       'Money transfer, virtual currency, or money service',\n",
       "       'Consumer Loan', 'Money transfers', 'Other financial service'],\n",
       "      dtype=object)"
      ]
     },
     "execution_count": 21,
     "metadata": {},
     "output_type": "execute_result"
    }
   ],
   "source": [
    "df2['Product'].unique()"
   ]
  },
  {
   "cell_type": "code",
   "execution_count": 22,
   "metadata": {},
   "outputs": [
    {
     "data": {
      "text/plain": [
       "array([ 0,  1,  2,  3,  4,  5,  6,  7,  8,  9, 10], dtype=int64)"
      ]
     },
     "execution_count": 22,
     "metadata": {},
     "output_type": "execute_result"
    }
   ],
   "source": [
    "np.unique(y_test)"
   ]
  },
  {
   "attachments": {},
   "cell_type": "markdown",
   "metadata": {},
   "source": [
    "`precision = true positives / (true positives + false positives)`\n",
    "\n",
    "Precision provides an indication of the model's ability to correctly classify positive instances. A high precision score indicates that the model is making very few false positive predictions, i.e., it is correctly identifying most of the positive instances, while a low precision score indicates that the model is making many false positive predictions.\n",
    "\n",
    "\n",
    "`Recall = TP / (TP + FN)`\n",
    "\n",
    "A high recall means that the model is good at finding all the positive samples, even if it means classifying some negative samples as positive (which could lower precision). A low recall means that the model is missing some positive samples.\n",
    "\n",
    "\n",
    "`F1 score = 2 * (precision * recall) / (precision + recall)`\n",
    "\n",
    "F1 score is the harmonic mean of precision and recall. It is a single metric that combines both precision and recall into a single value that represents the overall performance of a classification model.\n",
    "\n",
    "The F1 score ranges from 0 to 1, where a score of 1 represents perfect precision and recall, and a score of 0 represents poor precision and recall. A high F1 score indicates that the model has a good balance between precision and recall, and is able to classify the positive and negative samples accurately.\n",
    "\n",
    "\n",
    "`\"support\"` refers to the number of samples in each class of the true target labels (y_test) that are used to calculate the classification metrics such as precision, recall, and F1-score."
   ]
  },
  {
   "cell_type": "code",
   "execution_count": 23,
   "metadata": {},
   "outputs": [
    {
     "name": "stdout",
     "output_type": "stream",
     "text": [
      "\t\t\t\tCLASSIFICATIION METRICS\n",
      "\n",
      "              precision    recall  f1-score   support\n",
      "\n",
      "           0       0.88      0.93      0.90      1300\n",
      "           1       0.52      0.25      0.34        44\n",
      "           2       0.60      0.09      0.16        33\n",
      "           3       0.59      0.28      0.38        36\n",
      "           4       0.90      0.73      0.81        85\n",
      "           5       0.71      0.77      0.74       202\n",
      "           6       0.69      0.75      0.72       122\n",
      "           7       0.76      0.77      0.76       396\n",
      "           8       0.89      0.95      0.92       203\n",
      "           9       0.93      0.66      0.77        59\n",
      "          10       0.50      0.05      0.09        20\n",
      "\n",
      "    accuracy                           0.83      2500\n",
      "   macro avg       0.72      0.57      0.60      2500\n",
      "weighted avg       0.82      0.83      0.82      2500\n",
      "\n"
     ]
    }
   ],
   "source": [
    "# Classification report\n",
    "print('\\t\\t\\t\\tCLASSIFICATIION METRICS\\n')\n",
    "print(metrics.classification_report(y_test, y_pred, labels=np.unique(y_test)))"
   ]
  },
  {
   "cell_type": "code",
   "execution_count": 24,
   "metadata": {
    "colab": {
     "base_uri": "https://localhost:8080/"
    },
    "id": "B-k6K6CAB6iI",
    "outputId": "92d305bc-7f47-4111-9162-0f15530a60e8"
   },
   "outputs": [],
   "source": [
    "# # Classification report\n",
    "# print('\\t\\t\\t\\tCLASSIFICATIION METRICS\\n')\n",
    "# print(metrics.classification_report(y_test, y_pred, target_names= df2['Product'].unique()))"
   ]
  },
  {
   "attachments": {},
   "cell_type": "markdown",
   "metadata": {},
   "source": [
    "The diagonal elements of the matrix represent the number of correct predictions for each class, while the off-diagonal elements represent the misclassifications."
   ]
  },
  {
   "cell_type": "code",
   "execution_count": 25,
   "metadata": {
    "colab": {
     "base_uri": "https://localhost:8080/",
     "height": 776
    },
    "id": "7I7eocNIB6kF",
    "outputId": "f8654ede-0b44-4505-f10d-3f7218427516"
   },
   "outputs": [
    {
     "data": {
      "image/png": "[encoded data removed]",
      "text/plain": [
       "<Figure size 576x576 with 2 Axes>"
      ]
     },
     "metadata": {
      "needs_background": "light"
     },
     "output_type": "display_data"
    }
   ],
   "source": [
    "conf_mat = confusion_matrix(y_test, y_pred)\n",
    "fig, ax = plt.subplots(figsize=(8,8))\n",
    "sns.heatmap(conf_mat, annot=True, cmap=\"Blues\", fmt='d',\n",
    "            xticklabels=category_id_df.Product.values, \n",
    "            yticklabels=category_id_df.Product.values)\n",
    "plt.ylabel('Actual')\n",
    "plt.xlabel('Predicted')\n",
    "plt.title(\"CONFUSION MATRIX - LinearSVC\\n\", size=16);"
   ]
  },
  {
   "cell_type": "code",
   "execution_count": 26,
   "metadata": {
    "id": "AOCSfmJeQS0I"
   },
   "outputs": [],
   "source": [
    "X_train, X_test, y_train, y_test = train_test_split(X, y, test_size=0.25, random_state = 0)\n",
    "\n",
    "tfidf = TfidfVectorizer(sublinear_tf=True, min_df=5,\n",
    "                        ngram_range=(1, 2), \n",
    "                        stop_words='english')\n",
    "\n",
    "fitted_vectorizer = tfidf.fit(X_train)\n",
    "tfidf_vectorizer_vectors = fitted_vectorizer.transform(X_train)\n",
    "\n",
    "model = LinearSVC().fit(tfidf_vectorizer_vectors, y_train)"
   ]
  },
  {
   "cell_type": "code",
   "execution_count": 27,
   "metadata": {
    "colab": {
     "base_uri": "https://localhost:8080/"
    },
    "id": "fbiAB0zpQS2f",
    "outputId": "4d247936-31bd-4877-f453-3d1aebf02b47"
   },
   "outputs": [
    {
     "name": "stdout",
     "output_type": "stream",
     "text": [
      "['Debt collection']\n"
     ]
    }
   ],
   "source": [
    "complaint = \"\"\"I have received over 27 emails from XXXX XXXX who is a representative from Midland Funding LLC. \n",
    "From XX/XX/XXXX I received approximately 6 emails. From XX/XX/XXXX I received approximately 6 emails. \n",
    "From XX/XX/XXXX I received approximately 9 emails. From XX/XX/XXXX I received approximately 6 emails. \n",
    "All emails came from the same individual, XXXX XXXX. It is becoming a nonstop issue of harassment.\"\"\"\n",
    "\n",
    "print(model.predict(fitted_vectorizer.transform([complaint])))"
   ]
  },
  {
   "cell_type": "code",
   "execution_count": 28,
   "metadata": {
    "colab": {
     "base_uri": "https://localhost:8080/"
    },
    "id": "O0HbKv90QS40",
    "outputId": "676a370b-4fc8-4f73-feac-b853015a3cc8"
   },
   "outputs": [
    {
     "name": "stdout",
     "output_type": "stream",
     "text": [
      "['Student loan']\n"
     ]
    }
   ],
   "source": [
    "complaint = \"\"\"Respected Sir/ Madam, I am exploring the possibilities for financing my daughter 's \n",
    "XXXX education with private loan from bank. I am in the XXXX on XXXX visa. \n",
    "My daughter is on XXXX dependent visa. As a result, she is considered as international student. \n",
    "I am waiting in the Green Card ( Permanent Residency ) line for last several years. \n",
    "\n",
    "I checked with Discover, XXXX XXXX websites. While they allow international students to apply for loan, they need \n",
    "cosigners who are either US citizens or Permanent Residents. I feel that this is unfair. \n",
    "I had been given mortgage and car loans in the past which I closed successfully. I have good financial history. \n",
    "I think I should be allowed to remain cosigner on the student loan. I would be much obliged if you could look into it. \n",
    "Thanking you in advance. Best Regards\"\"\"\n",
    "\n",
    "print(model.predict(fitted_vectorizer.transform([complaint])))"
   ]
  },
  {
   "cell_type": "code",
   "execution_count": 29,
   "metadata": {
    "colab": {
     "base_uri": "https://localhost:8080/"
    },
    "id": "b7Z2oVSeQS7L",
    "outputId": "c43488bf-4ff2-442d-ee50-fea735127b3b"
   },
   "outputs": [
    {
     "name": "stdout",
     "output_type": "stream",
     "text": [
      "['Mortgage']\n"
     ]
    }
   ],
   "source": [
    "complaint = \"\"\"They make me look like if I was behind on my Mortgage on the month of XX/XX/2018 & XX/XX/XXXX \n",
    "when I was not and never was, when I was even giving extra money to the Principal. \n",
    "The Money Source Web site and the managers started a problem, when my wife was trying to increase the payment, \n",
    "so more money went to the Principal and two payments came out that month and because \n",
    "I reverse one of them thru my Bank as Fraud they took revenge and committed slander against me by reporting me late at the Credit Bureaus, \n",
    "for 45 and 60 days, when it was not thru. Told them to correct that and the accounting department or the company revert \n",
    "that letter from going to the Credit Bureaus to correct their injustice. The manager by the name XXXX requested this for \n",
    "the second time and nothing yet. I am a Senior of XXXX years old and a Retired XXXX Veteran and is a disgraced that Americans \n",
    "treat us that way and do not want to admit their injustice and lies to the Credit Bureau.\"\"\"\n",
    "print(model.predict(fitted_vectorizer.transform([complaint])))"
   ]
  },
  {
   "cell_type": "code",
   "execution_count": null,
   "metadata": {
    "id": "u4Ol8CTyQS9Y"
   },
   "outputs": [],
   "source": []
  },
  {
   "cell_type": "code",
   "execution_count": 16,
   "metadata": {
    "id": "JIUQe0YTQTWd"
   },
   "outputs": [
    {
     "name": "stderr",
     "output_type": "stream",
     "text": [
      "d:\\anaconda3\\lib\\site-packages\\sklearn\\linear_model\\_logistic.py:814: ConvergenceWarning: lbfgs failed to converge (status=1):\n",
      "STOP: TOTAL NO. of ITERATIONS REACHED LIMIT.\n",
      "\n",
      "Increase the number of iterations (max_iter) or scale the data as shown in:\n",
      "    https://scikit-learn.org/stable/modules/preprocessing.html\n",
      "Please also refer to the documentation for alternative solver options:\n",
      "    https://scikit-learn.org/stable/modules/linear_model.html#logistic-regression\n",
      "  n_iter_i = _check_optimize_result(\n"
     ]
    }
   ],
   "source": [
    "X_train, X_test, y_train, y_test,indices_train,indices_test = train_test_split(features, labels, df2.index, test_size=0.25, random_state=1)\n",
    "\n",
    "model = LogisticRegression()\n",
    "model.fit(X_train, y_train)\n",
    "\n",
    "# Generate predictions and calculate the probabilities for the testing set\n",
    "y_pred = model.predict(X_test)\n",
    "y_prob = model.predict_proba(X_test)[:, 1]"
   ]
  },
  {
   "cell_type": "code",
   "execution_count": 24,
   "metadata": {},
   "outputs": [
    {
     "name": "stderr",
     "output_type": "stream",
     "text": [
      "d:\\anaconda3\\lib\\site-packages\\sklearn\\metrics\\_ranking.py:999: UndefinedMetricWarning: No positive samples in y_true, true positive value should be meaningless\n",
      "  warnings.warn(\n",
      "d:\\anaconda3\\lib\\site-packages\\sklearn\\metrics\\_ranking.py:999: UndefinedMetricWarning: No positive samples in y_true, true positive value should be meaningless\n",
      "  warnings.warn(\n"
     ]
    },
    {
     "data": {
      "image/png": "[encoded data removed]",
      "text/plain": [
       "<Figure size 720x432 with 1 Axes>"
      ]
     },
     "metadata": {
      "needs_background": "light"
     },
     "output_type": "display_data"
    }
   ],
   "source": [
    "from sklearn.metrics import roc_curve, auc\n",
    "from sklearn.model_selection import train_test_split\n",
    "from sklearn.feature_extraction.text import CountVectorizer\n",
    "from sklearn.linear_model import LogisticRegression\n",
    "\n",
    "\n",
    "probas = model.predict_proba(X_test)\n",
    "\n",
    "# Compute ROC curve for each class\n",
    "fpr = dict()\n",
    "tpr = dict()\n",
    "roc_auc = dict()\n",
    "n_classes = len(model.classes_)\n",
    "for i in range(n_classes):\n",
    "    # Treat the current class as positive, and the rest as negative\n",
    "    y_binary = (y_test == model.classes_[i])\n",
    "    fpr[i], tpr[i], _ = roc_curve(y_binary, probas[:, i])\n",
    "    roc_auc[i] = auc(fpr[i], tpr[i])\n",
    "\n",
    "# Plot ROC curves\n",
    "plt.figure(figsize=(10, 6))\n",
    "colors = ['b', 'g', 'r', 'c', 'm', 'y', 'k', 'purple', 'orange', 'brown', 'pink', 'gray','hotpink' ]\n",
    "for i in range(n_classes):\n",
    "    plt.plot(fpr[i], tpr[i], color=colors[i], lw=2,\n",
    "             label='ROC curve of class {0} (area = {1:0.2f})'\n",
    "             ''.format(model.classes_[i], roc_auc[i]))\n",
    "\n",
    "plt.plot([0, 1], [0, 1], color='navy', linestyle='--', lw=2)\n",
    "plt.xlim([0.0, 1.0])\n",
    "plt.ylim([0.0, 1.05])\n",
    "plt.xlabel('False Positive Rate')\n",
    "plt.ylabel('True Positive Rate')\n",
    "plt.title('ROC curves for multi-class classification using Logistic Regression')\n",
    "plt.legend(loc=\"lower right\")\n",
    "plt.show()"
   ]
  },
  {
   "cell_type": "code",
   "execution_count": null,
   "metadata": {},
   "outputs": [],
   "source": []
  }
 ],
 "metadata": {
  "colab": {
   "collapsed_sections": [],
   "name": "Multi-text_Classification.ipynb",
   "provenance": []
  },
  "kernelspec": {
   "display_name": "Python 3 (ipykernel)",
   "language": "python",
   "name": "python3"
  },
  "language_info": {
   "codemirror_mode": {
    "name": "ipython",
    "version": 3
   },
   "file_extension": ".py",
   "mimetype": "text/x-python",
   "name": "python",
   "nbconvert_exporter": "python",
   "pygments_lexer": "ipython3",
   "version": "3.9.12"
  },
  "vscode": {
   "interpreter": {
    "hash": "659df8de1569006f114f8907b664d694faf06620a8c9ad24d2581ea47af9ab51"
   }
  }
 },
 "nbformat": 4,
 "nbformat_minor": 1
}
